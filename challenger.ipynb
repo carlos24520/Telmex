{
  "nbformat": 4,
  "nbformat_minor": 0,
  "metadata": {
    "colab": {
      "provenance": [],
      "authorship_tag": "ABX9TyMLWhPwNkofTlSyGY9k1f2o",
      "include_colab_link": true
    },
    "kernelspec": {
      "name": "python3",
      "display_name": "Python 3"
    },
    "language_info": {
      "name": "python"
    }
  },
  "cells": [
    {
      "cell_type": "markdown",
      "metadata": {
        "id": "view-in-github",
        "colab_type": "text"
      },
      "source": [
        "<a href=\"https://colab.research.google.com/github/carlos24520/Telmex/blob/main/challenger.ipynb\" target=\"_parent\"><img src=\"https://colab.research.google.com/assets/colab-badge.svg\" alt=\"Open In Colab\"/></a>"
      ]
    },
    {
      "cell_type": "code",
      "source": [
        "import pandas as pd\n",
        "import numpy as np\n",
        "\n",
        "\n",
        "url = \"https://github.com/alura-cursos/challenge2-data-science-LATAM/raw/main/TelecomX_Data.json\"\n",
        "df_raw = pd.read_json(url)\n",
        "\n",
        "\n",
        "def flatten_df(df, sep=\"_\"):\n",
        "    df = df.copy()\n",
        "\n",
        "\n",
        "    list_cols = [c for c in df.columns\n",
        "                 if df[c].apply(lambda x: isinstance(x, list)).any()]\n",
        "    for col in list_cols:\n",
        "        df = df.explode(col, ignore_index=True)\n",
        "\n",
        "\n",
        "    while True:\n",
        "        dict_cols = [c for c in df.columns\n",
        "                     if df[c].apply(lambda x: isinstance(x, dict)).any()]\n",
        "        if not dict_cols:\n",
        "            break\n",
        "\n",
        "        for col in dict_cols:\n",
        "            norm = (\n",
        "                pd.json_normalize(df[col])\n",
        "                  .add_prefix(f\"{col}{sep}\")\n",
        "            )\n",
        "            df = pd.concat(\n",
        "                [df.drop(columns=[col]).reset_index(drop=True),\n",
        "                 norm.reset_index(drop=True)],\n",
        "                axis=1\n",
        "            )\n",
        "    return df\n",
        "\n",
        "\n",
        "df_flat = flatten_df(df_raw)\n",
        "\n",
        "\n",
        "df_flat['account_Charges.Total'] = (\n",
        "    df_flat['account_Charges.Total']\n",
        "        .replace(r'^\\s*$', np.nan, regex=True)\n",
        "        .astype(float)\n",
        ")\n",
        "\n",
        "\n",
        "rename_cols = {\n",
        "    'index': 'INDICE',\n",
        "    'customerID': 'ID_CLIENTE',\n",
        "    'Churn': 'CHURN',\n",
        "    'customer_gender': 'GENERO_CLIENTE',\n",
        "    'customer_SeniorCitizen': 'CLIENTE_SENIOR',\n",
        "    'customer_Partner': 'CLIENTE_PARTNER',\n",
        "    'customer_Dependents': 'CLIENTE_DEPENDIENTE',\n",
        "    'customer_tenure': 'ANTIGUEDAD_CLIENTE',\n",
        "    'phone_PhoneService': 'SERVICIO_TELEFONO',\n",
        "    'phone_MultipleLines': 'MULTIPLES_LINEAS',\n",
        "    'internet_InternetService': 'SERVICIO_INET',\n",
        "    'internet_OnlineSecurity': 'SEGURIDAD_ONLINE',\n",
        "    'internet_OnlineBackup': 'RESPALDO_ONLINE',\n",
        "    'internet_DeviceProtection': 'PROTECCION_DISPOSITIVOS',\n",
        "    'internet_TechSupport': 'SOPORTE_TECNICO',\n",
        "    'internet_StreamingTV': 'STREAMING',\n",
        "    'internet_StreamingMovies': 'PELICULAS_STREAMING',\n",
        "    'account_Contract': 'CONTRATO',\n",
        "    'account_PaperlessBilling': 'BOLETA_ELECTRONICA',\n",
        "    'account_PaymentMethod': 'METODO_PAGO',\n",
        "    'account_Charges.Monthly': 'CARGO_MENSUAL',\n",
        "    'account_Charges.Total': 'CARGO_TOTAL'\n",
        "}\n",
        "\n",
        "df_flat.rename(columns=rename_cols, inplace=True)\n",
        "if 'INDICE' in df_flat.columns:\n",
        "\n",
        "    df_flat.set_index('INDICE', inplace=True, drop=True)\n",
        "\n",
        "df_flat.to_parquet(\"telecomx_flat_renombrado.parquet\", index=False)\n",
        "churn_total = df_flat['CHURN'].sum()\n",
        "df_flat['CHURN'] = df_flat['CHURN'].map({'Yes': 1, 'No': 0})\n",
        "\n",
        "churn_total = df_flat['CHURN'].sum()\n",
        "churn_total_porcentaje = (churn_total / len(df_flat)) * 100\n",
        "\n",
        "df_flat.head()\n",
        "\n",
        "df_no_churn = df_flat[df_flat['CHURN'] == 0]\n",
        "df_churn = df_flat[df_flat['CHURN'] == 1]\n",
        "no_churn_total = len(df_no_churn)\n",
        "no_churn_pct   = no_churn_total / len(df_flat) * 100\n",
        "\n",
        "nulos_churn = df_flat['CHURN'].isna().sum()\n",
        "\n",
        "df_clean = df_flat.dropna(subset=['CHURN'])\n",
        "\n",
        "total_clean = len(df_clean)\n",
        "activos_pct = (df_clean['CHURN'] == 0).sum() / total_clean * 100\n",
        "cancelados_pct = (df_clean['CHURN'] == 1).sum() / total_clean * 100\n",
        "\n",
        "print(f\"Filas tras limpieza: {total_clean}\")\n",
        "print(f\"Activos:    {activos_pct:.2f}%\")\n",
        "print(f\"Cancelados: {cancelados_pct:.2f}%\")\n",
        "print(f\"Suma total: {(activos_pct + cancelados_pct):.2f}%\")\n",
        "df_no_churn.head()"
      ],
      "metadata": {
        "colab": {
          "base_uri": "https://localhost:8080/",
          "height": 412
        },
        "id": "JPzCMl-M8FnE",
        "outputId": "120dbdd0-0dbe-4c4b-f357-aa813a2c91c5"
      },
      "execution_count": 148,
      "outputs": [
        {
          "output_type": "stream",
          "name": "stdout",
          "text": [
            "Filas tras limpieza: 7043\n",
            "Activos:    73.46%\n",
            "Cancelados: 26.54%\n",
            "Suma total: 100.00%\n"
          ]
        },
        {
          "output_type": "execute_result",
          "data": {
            "text/plain": [
              "   ID_CLIENTE  CHURN GENERO_CLIENTE  CLIENTE_SENIOR CLIENTE_PARTNER  \\\n",
              "0  0002-ORFBO    0.0         Female               0             Yes   \n",
              "1  0003-MKNFE    0.0           Male               0              No   \n",
              "5  0013-MHZWF    0.0         Female               0              No   \n",
              "6  0013-SMEOE    0.0         Female               1             Yes   \n",
              "7  0014-BMAQU    0.0           Male               0             Yes   \n",
              "\n",
              "  CLIENTE_DEPENDIENTE  ANTIGUEDAD_CLIENTE SERVICIO_TELEFONO MULTIPLES_LINEAS  \\\n",
              "0                 Yes                   9               Yes               No   \n",
              "1                  No                   9               Yes              Yes   \n",
              "5                 Yes                   9               Yes               No   \n",
              "6                  No                  71               Yes               No   \n",
              "7                  No                  63               Yes              Yes   \n",
              "\n",
              "  SERVICIO_INET  ... RESPALDO_ONLINE PROTECCION_DISPOSITIVOS SOPORTE_TECNICO  \\\n",
              "0           DSL  ...             Yes                      No             Yes   \n",
              "1           DSL  ...              No                      No              No   \n",
              "5           DSL  ...              No                      No             Yes   \n",
              "6   Fiber optic  ...             Yes                     Yes             Yes   \n",
              "7   Fiber optic  ...              No                      No             Yes   \n",
              "\n",
              "  STREAMING PELICULAS_STREAMING        CONTRATO BOLETA_ELECTRONICA  \\\n",
              "0       Yes                  No        One year                Yes   \n",
              "1        No                 Yes  Month-to-month                 No   \n",
              "5       Yes                 Yes  Month-to-month                Yes   \n",
              "6       Yes                 Yes        Two year                Yes   \n",
              "7        No                  No        Two year                Yes   \n",
              "\n",
              "                 METODO_PAGO CARGO_MENSUAL  CARGO_TOTAL  \n",
              "0               Mailed check         65.60       593.30  \n",
              "1               Mailed check         59.90       542.40  \n",
              "5    Credit card (automatic)         69.40       571.45  \n",
              "6  Bank transfer (automatic)        109.70      7904.25  \n",
              "7    Credit card (automatic)         84.65      5377.80  \n",
              "\n",
              "[5 rows x 21 columns]"
            ],
            "text/html": [
              "\n",
              "  <div id=\"df-351df0ef-f33c-459c-b577-6617d8a7bf16\" class=\"colab-df-container\">\n",
              "    <div>\n",
              "<style scoped>\n",
              "    .dataframe tbody tr th:only-of-type {\n",
              "        vertical-align: middle;\n",
              "    }\n",
              "\n",
              "    .dataframe tbody tr th {\n",
              "        vertical-align: top;\n",
              "    }\n",
              "\n",
              "    .dataframe thead th {\n",
              "        text-align: right;\n",
              "    }\n",
              "</style>\n",
              "<table border=\"1\" class=\"dataframe\">\n",
              "  <thead>\n",
              "    <tr style=\"text-align: right;\">\n",
              "      <th></th>\n",
              "      <th>ID_CLIENTE</th>\n",
              "      <th>CHURN</th>\n",
              "      <th>GENERO_CLIENTE</th>\n",
              "      <th>CLIENTE_SENIOR</th>\n",
              "      <th>CLIENTE_PARTNER</th>\n",
              "      <th>CLIENTE_DEPENDIENTE</th>\n",
              "      <th>ANTIGUEDAD_CLIENTE</th>\n",
              "      <th>SERVICIO_TELEFONO</th>\n",
              "      <th>MULTIPLES_LINEAS</th>\n",
              "      <th>SERVICIO_INET</th>\n",
              "      <th>...</th>\n",
              "      <th>RESPALDO_ONLINE</th>\n",
              "      <th>PROTECCION_DISPOSITIVOS</th>\n",
              "      <th>SOPORTE_TECNICO</th>\n",
              "      <th>STREAMING</th>\n",
              "      <th>PELICULAS_STREAMING</th>\n",
              "      <th>CONTRATO</th>\n",
              "      <th>BOLETA_ELECTRONICA</th>\n",
              "      <th>METODO_PAGO</th>\n",
              "      <th>CARGO_MENSUAL</th>\n",
              "      <th>CARGO_TOTAL</th>\n",
              "    </tr>\n",
              "  </thead>\n",
              "  <tbody>\n",
              "    <tr>\n",
              "      <th>0</th>\n",
              "      <td>0002-ORFBO</td>\n",
              "      <td>0.0</td>\n",
              "      <td>Female</td>\n",
              "      <td>0</td>\n",
              "      <td>Yes</td>\n",
              "      <td>Yes</td>\n",
              "      <td>9</td>\n",
              "      <td>Yes</td>\n",
              "      <td>No</td>\n",
              "      <td>DSL</td>\n",
              "      <td>...</td>\n",
              "      <td>Yes</td>\n",
              "      <td>No</td>\n",
              "      <td>Yes</td>\n",
              "      <td>Yes</td>\n",
              "      <td>No</td>\n",
              "      <td>One year</td>\n",
              "      <td>Yes</td>\n",
              "      <td>Mailed check</td>\n",
              "      <td>65.60</td>\n",
              "      <td>593.30</td>\n",
              "    </tr>\n",
              "    <tr>\n",
              "      <th>1</th>\n",
              "      <td>0003-MKNFE</td>\n",
              "      <td>0.0</td>\n",
              "      <td>Male</td>\n",
              "      <td>0</td>\n",
              "      <td>No</td>\n",
              "      <td>No</td>\n",
              "      <td>9</td>\n",
              "      <td>Yes</td>\n",
              "      <td>Yes</td>\n",
              "      <td>DSL</td>\n",
              "      <td>...</td>\n",
              "      <td>No</td>\n",
              "      <td>No</td>\n",
              "      <td>No</td>\n",
              "      <td>No</td>\n",
              "      <td>Yes</td>\n",
              "      <td>Month-to-month</td>\n",
              "      <td>No</td>\n",
              "      <td>Mailed check</td>\n",
              "      <td>59.90</td>\n",
              "      <td>542.40</td>\n",
              "    </tr>\n",
              "    <tr>\n",
              "      <th>5</th>\n",
              "      <td>0013-MHZWF</td>\n",
              "      <td>0.0</td>\n",
              "      <td>Female</td>\n",
              "      <td>0</td>\n",
              "      <td>No</td>\n",
              "      <td>Yes</td>\n",
              "      <td>9</td>\n",
              "      <td>Yes</td>\n",
              "      <td>No</td>\n",
              "      <td>DSL</td>\n",
              "      <td>...</td>\n",
              "      <td>No</td>\n",
              "      <td>No</td>\n",
              "      <td>Yes</td>\n",
              "      <td>Yes</td>\n",
              "      <td>Yes</td>\n",
              "      <td>Month-to-month</td>\n",
              "      <td>Yes</td>\n",
              "      <td>Credit card (automatic)</td>\n",
              "      <td>69.40</td>\n",
              "      <td>571.45</td>\n",
              "    </tr>\n",
              "    <tr>\n",
              "      <th>6</th>\n",
              "      <td>0013-SMEOE</td>\n",
              "      <td>0.0</td>\n",
              "      <td>Female</td>\n",
              "      <td>1</td>\n",
              "      <td>Yes</td>\n",
              "      <td>No</td>\n",
              "      <td>71</td>\n",
              "      <td>Yes</td>\n",
              "      <td>No</td>\n",
              "      <td>Fiber optic</td>\n",
              "      <td>...</td>\n",
              "      <td>Yes</td>\n",
              "      <td>Yes</td>\n",
              "      <td>Yes</td>\n",
              "      <td>Yes</td>\n",
              "      <td>Yes</td>\n",
              "      <td>Two year</td>\n",
              "      <td>Yes</td>\n",
              "      <td>Bank transfer (automatic)</td>\n",
              "      <td>109.70</td>\n",
              "      <td>7904.25</td>\n",
              "    </tr>\n",
              "    <tr>\n",
              "      <th>7</th>\n",
              "      <td>0014-BMAQU</td>\n",
              "      <td>0.0</td>\n",
              "      <td>Male</td>\n",
              "      <td>0</td>\n",
              "      <td>Yes</td>\n",
              "      <td>No</td>\n",
              "      <td>63</td>\n",
              "      <td>Yes</td>\n",
              "      <td>Yes</td>\n",
              "      <td>Fiber optic</td>\n",
              "      <td>...</td>\n",
              "      <td>No</td>\n",
              "      <td>No</td>\n",
              "      <td>Yes</td>\n",
              "      <td>No</td>\n",
              "      <td>No</td>\n",
              "      <td>Two year</td>\n",
              "      <td>Yes</td>\n",
              "      <td>Credit card (automatic)</td>\n",
              "      <td>84.65</td>\n",
              "      <td>5377.80</td>\n",
              "    </tr>\n",
              "  </tbody>\n",
              "</table>\n",
              "<p>5 rows × 21 columns</p>\n",
              "</div>\n",
              "    <div class=\"colab-df-buttons\">\n",
              "\n",
              "  <div class=\"colab-df-container\">\n",
              "    <button class=\"colab-df-convert\" onclick=\"convertToInteractive('df-351df0ef-f33c-459c-b577-6617d8a7bf16')\"\n",
              "            title=\"Convert this dataframe to an interactive table.\"\n",
              "            style=\"display:none;\">\n",
              "\n",
              "  <svg xmlns=\"http://www.w3.org/2000/svg\" height=\"24px\" viewBox=\"0 -960 960 960\">\n",
              "    <path d=\"M120-120v-720h720v720H120Zm60-500h600v-160H180v160Zm220 220h160v-160H400v160Zm0 220h160v-160H400v160ZM180-400h160v-160H180v160Zm440 0h160v-160H620v160ZM180-180h160v-160H180v160Zm440 0h160v-160H620v160Z\"/>\n",
              "  </svg>\n",
              "    </button>\n",
              "\n",
              "  <style>\n",
              "    .colab-df-container {\n",
              "      display:flex;\n",
              "      gap: 12px;\n",
              "    }\n",
              "\n",
              "    .colab-df-convert {\n",
              "      background-color: #E8F0FE;\n",
              "      border: none;\n",
              "      border-radius: 50%;\n",
              "      cursor: pointer;\n",
              "      display: none;\n",
              "      fill: #1967D2;\n",
              "      height: 32px;\n",
              "      padding: 0 0 0 0;\n",
              "      width: 32px;\n",
              "    }\n",
              "\n",
              "    .colab-df-convert:hover {\n",
              "      background-color: #E2EBFA;\n",
              "      box-shadow: 0px 1px 2px rgba(60, 64, 67, 0.3), 0px 1px 3px 1px rgba(60, 64, 67, 0.15);\n",
              "      fill: #174EA6;\n",
              "    }\n",
              "\n",
              "    .colab-df-buttons div {\n",
              "      margin-bottom: 4px;\n",
              "    }\n",
              "\n",
              "    [theme=dark] .colab-df-convert {\n",
              "      background-color: #3B4455;\n",
              "      fill: #D2E3FC;\n",
              "    }\n",
              "\n",
              "    [theme=dark] .colab-df-convert:hover {\n",
              "      background-color: #434B5C;\n",
              "      box-shadow: 0px 1px 3px 1px rgba(0, 0, 0, 0.15);\n",
              "      filter: drop-shadow(0px 1px 2px rgba(0, 0, 0, 0.3));\n",
              "      fill: #FFFFFF;\n",
              "    }\n",
              "  </style>\n",
              "\n",
              "    <script>\n",
              "      const buttonEl =\n",
              "        document.querySelector('#df-351df0ef-f33c-459c-b577-6617d8a7bf16 button.colab-df-convert');\n",
              "      buttonEl.style.display =\n",
              "        google.colab.kernel.accessAllowed ? 'block' : 'none';\n",
              "\n",
              "      async function convertToInteractive(key) {\n",
              "        const element = document.querySelector('#df-351df0ef-f33c-459c-b577-6617d8a7bf16');\n",
              "        const dataTable =\n",
              "          await google.colab.kernel.invokeFunction('convertToInteractive',\n",
              "                                                    [key], {});\n",
              "        if (!dataTable) return;\n",
              "\n",
              "        const docLinkHtml = 'Like what you see? Visit the ' +\n",
              "          '<a target=\"_blank\" href=https://colab.research.google.com/notebooks/data_table.ipynb>data table notebook</a>'\n",
              "          + ' to learn more about interactive tables.';\n",
              "        element.innerHTML = '';\n",
              "        dataTable['output_type'] = 'display_data';\n",
              "        await google.colab.output.renderOutput(dataTable, element);\n",
              "        const docLink = document.createElement('div');\n",
              "        docLink.innerHTML = docLinkHtml;\n",
              "        element.appendChild(docLink);\n",
              "      }\n",
              "    </script>\n",
              "  </div>\n",
              "\n",
              "\n",
              "    <div id=\"df-a3138322-0111-4d43-b40a-f6fca6f528d4\">\n",
              "      <button class=\"colab-df-quickchart\" onclick=\"quickchart('df-a3138322-0111-4d43-b40a-f6fca6f528d4')\"\n",
              "                title=\"Suggest charts\"\n",
              "                style=\"display:none;\">\n",
              "\n",
              "<svg xmlns=\"http://www.w3.org/2000/svg\" height=\"24px\"viewBox=\"0 0 24 24\"\n",
              "     width=\"24px\">\n",
              "    <g>\n",
              "        <path d=\"M19 3H5c-1.1 0-2 .9-2 2v14c0 1.1.9 2 2 2h14c1.1 0 2-.9 2-2V5c0-1.1-.9-2-2-2zM9 17H7v-7h2v7zm4 0h-2V7h2v10zm4 0h-2v-4h2v4z\"/>\n",
              "    </g>\n",
              "</svg>\n",
              "      </button>\n",
              "\n",
              "<style>\n",
              "  .colab-df-quickchart {\n",
              "      --bg-color: #E8F0FE;\n",
              "      --fill-color: #1967D2;\n",
              "      --hover-bg-color: #E2EBFA;\n",
              "      --hover-fill-color: #174EA6;\n",
              "      --disabled-fill-color: #AAA;\n",
              "      --disabled-bg-color: #DDD;\n",
              "  }\n",
              "\n",
              "  [theme=dark] .colab-df-quickchart {\n",
              "      --bg-color: #3B4455;\n",
              "      --fill-color: #D2E3FC;\n",
              "      --hover-bg-color: #434B5C;\n",
              "      --hover-fill-color: #FFFFFF;\n",
              "      --disabled-bg-color: #3B4455;\n",
              "      --disabled-fill-color: #666;\n",
              "  }\n",
              "\n",
              "  .colab-df-quickchart {\n",
              "    background-color: var(--bg-color);\n",
              "    border: none;\n",
              "    border-radius: 50%;\n",
              "    cursor: pointer;\n",
              "    display: none;\n",
              "    fill: var(--fill-color);\n",
              "    height: 32px;\n",
              "    padding: 0;\n",
              "    width: 32px;\n",
              "  }\n",
              "\n",
              "  .colab-df-quickchart:hover {\n",
              "    background-color: var(--hover-bg-color);\n",
              "    box-shadow: 0 1px 2px rgba(60, 64, 67, 0.3), 0 1px 3px 1px rgba(60, 64, 67, 0.15);\n",
              "    fill: var(--button-hover-fill-color);\n",
              "  }\n",
              "\n",
              "  .colab-df-quickchart-complete:disabled,\n",
              "  .colab-df-quickchart-complete:disabled:hover {\n",
              "    background-color: var(--disabled-bg-color);\n",
              "    fill: var(--disabled-fill-color);\n",
              "    box-shadow: none;\n",
              "  }\n",
              "\n",
              "  .colab-df-spinner {\n",
              "    border: 2px solid var(--fill-color);\n",
              "    border-color: transparent;\n",
              "    border-bottom-color: var(--fill-color);\n",
              "    animation:\n",
              "      spin 1s steps(1) infinite;\n",
              "  }\n",
              "\n",
              "  @keyframes spin {\n",
              "    0% {\n",
              "      border-color: transparent;\n",
              "      border-bottom-color: var(--fill-color);\n",
              "      border-left-color: var(--fill-color);\n",
              "    }\n",
              "    20% {\n",
              "      border-color: transparent;\n",
              "      border-left-color: var(--fill-color);\n",
              "      border-top-color: var(--fill-color);\n",
              "    }\n",
              "    30% {\n",
              "      border-color: transparent;\n",
              "      border-left-color: var(--fill-color);\n",
              "      border-top-color: var(--fill-color);\n",
              "      border-right-color: var(--fill-color);\n",
              "    }\n",
              "    40% {\n",
              "      border-color: transparent;\n",
              "      border-right-color: var(--fill-color);\n",
              "      border-top-color: var(--fill-color);\n",
              "    }\n",
              "    60% {\n",
              "      border-color: transparent;\n",
              "      border-right-color: var(--fill-color);\n",
              "    }\n",
              "    80% {\n",
              "      border-color: transparent;\n",
              "      border-right-color: var(--fill-color);\n",
              "      border-bottom-color: var(--fill-color);\n",
              "    }\n",
              "    90% {\n",
              "      border-color: transparent;\n",
              "      border-bottom-color: var(--fill-color);\n",
              "    }\n",
              "  }\n",
              "</style>\n",
              "\n",
              "      <script>\n",
              "        async function quickchart(key) {\n",
              "          const quickchartButtonEl =\n",
              "            document.querySelector('#' + key + ' button');\n",
              "          quickchartButtonEl.disabled = true;  // To prevent multiple clicks.\n",
              "          quickchartButtonEl.classList.add('colab-df-spinner');\n",
              "          try {\n",
              "            const charts = await google.colab.kernel.invokeFunction(\n",
              "                'suggestCharts', [key], {});\n",
              "          } catch (error) {\n",
              "            console.error('Error during call to suggestCharts:', error);\n",
              "          }\n",
              "          quickchartButtonEl.classList.remove('colab-df-spinner');\n",
              "          quickchartButtonEl.classList.add('colab-df-quickchart-complete');\n",
              "        }\n",
              "        (() => {\n",
              "          let quickchartButtonEl =\n",
              "            document.querySelector('#df-a3138322-0111-4d43-b40a-f6fca6f528d4 button');\n",
              "          quickchartButtonEl.style.display =\n",
              "            google.colab.kernel.accessAllowed ? 'block' : 'none';\n",
              "        })();\n",
              "      </script>\n",
              "    </div>\n",
              "\n",
              "    </div>\n",
              "  </div>\n"
            ],
            "application/vnd.google.colaboratory.intrinsic+json": {
              "type": "dataframe",
              "variable_name": "df_no_churn"
            }
          },
          "metadata": {},
          "execution_count": 148
        }
      ]
    },
    {
      "cell_type": "markdown",
      "source": [
        "#Carga y análisis"
      ],
      "metadata": {
        "id": "PU7ySf6G8T31"
      }
    },
    {
      "cell_type": "code",
      "source": [
        "import matplotlib.pyplot as plt\n",
        "import pandas as pd\n",
        "\n",
        "colors = ['green', 'yellow']\n",
        "try:\n",
        "    gender_counts = df_clean.groupby(['GENERO_CLIENTE', 'CHURN']).size().unstack(fill_value=0)\n",
        "except NameError:\n",
        "    print(\"Error: df_clean is not defined. Please ensure the data cleaning steps have been executed.\")\n",
        "\n",
        "if 'gender_counts' in locals() or 'gender_counts' in globals():\n",
        "    gender_counts.plot(kind='barh', color=colors, figsize=(8, 5))\n",
        "    colors = ['green', 'yellow']\n",
        "    plt.title('Churn vs No Churn por Género')\n",
        "    plt.xlabel('Número de clientes')\n",
        "    plt.ylabel('Género')\n",
        "    plt.legend(['No Churn', 'Churn'])\n",
        "    plt.tight_layout()\n",
        "    plt.show()\n"
      ],
      "metadata": {
        "colab": {
          "base_uri": "https://localhost:8080/",
          "height": 507
        },
        "id": "L_bO98gN8XW6",
        "outputId": "02a7de22-4be8-4c34-baff-ba3664788939"
      },
      "execution_count": 149,
      "outputs": [
        {
          "output_type": "display_data",
          "data": {
            "text/plain": [
              "<Figure size 800x500 with 1 Axes>"
            ],
            "image/png": "[encoded data removed]"
          },
          "metadata": {}
        }
      ]
    },
    {
      "cell_type": "code",
      "source": [
        "import matplotlib.pyplot as plt\n",
        "import pandas as pd\n",
        "\n",
        "# Gráfico 1: Churn vs No Churn por Condición Senior\n",
        "senior_counts = df_clean.groupby(['CLIENTE_SENIOR', 'CHURN']).size().unstack(fill_value=0)\n",
        "senior_counts.plot(kind='barh', figsize=(8, 5), color=['green', 'yellow'])\n",
        "plt.title('Churn vs No Churn por Condición Senior')\n",
        "plt.xlabel('Número de clientes')\n",
        "plt.ylabel('Categoría Senior')\n",
        "plt.legend(['No Churn', 'Churn'], title='Estado')\n",
        "plt.tight_layout()\n",
        "plt.show()\n",
        "\n",
        "# Preparación de datos para el segundo gráfico\n",
        "df_tmp = df_clean.copy()\n",
        "bins   = [0, 12, 24, 48, df_tmp['ANTIGUEDAD_CLIENTE'].max() + 1]\n",
        "labels = ['≤12 m', '13-24 m', '25-48 m', '≥49 m']\n",
        "\n",
        "df_tmp.loc[:, 'CATEGORIA_FIDELIDAD'] = pd.cut(\n",
        "    df_tmp['ANTIGUEDAD_CLIENTE'],\n",
        "    bins=bins, labels=labels, right=False\n",
        ")\n",
        "\n",
        "# Tabla de frecuencias (stacked)\n",
        "fid_counts = (\n",
        "    df_tmp\n",
        "      .groupby(['CATEGORIA_FIDELIDAD', 'CHURN'], observed=True)\n",
        "      .size()\n",
        "      .unstack(fill_value=0)\n",
        ")\n",
        "\n",
        "# Gráfico 2: Churn vs No Churn por Fidelidad\n",
        "fid_counts.plot(kind='barh', stacked=True, figsize=(8, 5), color=['green', 'yellow'])\n",
        "plt.title('Churn vs No Churn por Fidelidad (Antigüedad del Cliente)')\n",
        "plt.xlabel('Número de Clientes')\n",
        "plt.ylabel('Categoría de Fidelidad')\n",
        "plt.legend(['No Churn', 'Churn'], title='Estado')\n",
        "plt.tight_layout()\n",
        "plt.show()\n"
      ],
      "metadata": {
        "colab": {
          "base_uri": "https://localhost:8080/",
          "height": 997
        },
        "id": "gXaFjhmW8h7z",
        "outputId": "dbee76e4-04b6-41ea-c456-401fe86b6f1c"
      },
      "execution_count": 150,
      "outputs": [
        {
          "output_type": "display_data",
          "data": {
            "text/plain": [
              "<Figure size 800x500 with 1 Axes>"
            ],
            "image/png": "[encoded data removed]"
          },
          "metadata": {}
        },
        {
          "output_type": "display_data",
          "data": {
            "text/plain": [
              "<Figure size 800x500 with 1 Axes>"
            ],
            "image/png": "[encoded data removed]"
          },
          "metadata": {}
        }
      ]
    },
    {
      "cell_type": "code",
      "source": [
        "# 1) Crear una copia del DataFrame original\n",
        "df_tmp = df_clean.copy()\n",
        "\n",
        "# 2) Definir los bins y etiquetas para categorizar la antigüedad\n",
        "bins = [0, 12, 24, 48, df_tmp['ANTIGUEDAD_CLIENTE'].max() + 1]\n",
        "labels = ['≤12 m', '13-24 m', '25-48 m', '≥49 m']\n",
        "\n",
        "# 3) Crear la nueva columna de categoría de fidelidad\n",
        "df_tmp['CATEGORIA_FIDELIDAD'] = pd.cut(\n",
        "    df_tmp['ANTIGUEDAD_CLIENTE'],\n",
        "    bins=bins, labels=labels, right=False\n",
        ")\n",
        "\n",
        "# 4) Crear la tabla de frecuencias cruzadas entre fidelidad y churn\n",
        "fid_counts = (\n",
        "    df_tmp\n",
        "    .groupby(['CATEGORIA_FIDELIDAD', 'CHURN'], observed=True)\n",
        "    .size()\n",
        "    .unstack(fill_value=0)\n",
        ")\n"
      ],
      "metadata": {
        "id": "doBUUH628pIK"
      },
      "execution_count": 151,
      "outputs": []
    },
    {
      "cell_type": "code",
      "source": [
        "senior_counts.plot(\n",
        "    kind='barh',\n",
        "    figsize=(8, 5),\n",
        "    color=['green', 'yellow']\n",
        ")\n",
        "plt.title('Churn vs No Churn por Condición Senior')\n",
        "plt.xlabel('Categoría Senior')\n",
        "plt.ylabel('Número de clientes')\n",
        "plt.legend(['No Churn', 'Churn'])\n",
        "plt.tight_layout()\n",
        "plt.show()\n"
      ],
      "metadata": {
        "colab": {
          "base_uri": "https://localhost:8080/",
          "height": 507
        },
        "id": "3puiQash9DAT",
        "outputId": "ba818c05-46dc-4b45-b6ed-9a15141fff33"
      },
      "execution_count": 152,
      "outputs": [
        {
          "output_type": "display_data",
          "data": {
            "text/plain": [
              "<Figure size 800x500 with 1 Axes>"
            ],
            "image/png": "[encoded data removed]"
          },
          "metadata": {}
        }
      ]
    },
    {
      "cell_type": "code",
      "source": [
        "# -------- Gráfico por GÉNERO --------\n",
        "gender_counts = df_clean.groupby(['GENERO_CLIENTE', 'CHURN']).size().unstack(fill_value=0)\n",
        "gender_counts.plot(kind='barh', figsize=(8, 5), color=['green', 'yellow'])\n",
        "plt.title('Churn vs No Churn por Género')\n",
        "plt.xlabel('Número de clientes')  # Corregido para que tenga sentido con el eje X\n",
        "plt.ylabel('Género')\n",
        "plt.legend(['No Churn', 'Churn'])\n",
        "plt.tight_layout()\n",
        "plt.show()\n"
      ],
      "metadata": {
        "colab": {
          "base_uri": "https://localhost:8080/",
          "height": 507
        },
        "id": "qvZaLoTa9J96",
        "outputId": "50ededcb-cdde-40f8-f534-239a8f6511dc"
      },
      "execution_count": 153,
      "outputs": [
        {
          "output_type": "display_data",
          "data": {
            "text/plain": [
              "<Figure size 800x500 with 1 Axes>"
            ],
            "image/png": "[encoded data removed]"
          },
          "metadata": {}
        }
      ]
    },
    {
      "cell_type": "code",
      "source": [
        "senior_counts.plot(\n",
        "    kind='barh',\n",
        "    figsize=(8, 5),\n",
        "    color=['green', 'yellow']\n",
        ")\n",
        "plt.title('Churn vs No Churn por Condición Senior')\n",
        "plt.xlabel('Categoría Senior')\n",
        "plt.ylabel('Número de clientes')\n",
        "plt.legend(['No Churn', 'Churn'])\n",
        "plt.tight_layout()\n",
        "plt.show()\n",
        "\n"
      ],
      "metadata": {
        "colab": {
          "base_uri": "https://localhost:8080/",
          "height": 507
        },
        "id": "Ag_QHTBt9OMD",
        "outputId": "4e271897-e70f-42b6-dd7d-04acda75a588"
      },
      "execution_count": 154,
      "outputs": [
        {
          "output_type": "display_data",
          "data": {
            "text/plain": [
              "<Figure size 800x500 with 1 Axes>"
            ],
            "image/png": "[encoded data removed]"
          },
          "metadata": {}
        }
      ]
    },
    {
      "cell_type": "code",
      "source": [
        "fid_counts.plot(\n",
        "    kind='barh',\n",
        "    stacked=True,\n",
        "    figsize=(8, 5),\n",
        "    color=['green', 'yellow']\n",
        ")\n",
        "plt.title('Churn vs No Churn por Fidelidad (Antigüedad del Cliente)')\n",
        "plt.xlabel('Categoría de Fidelidad')\n",
        "plt.ylabel('Número de Clientes')\n",
        "plt.legend(['No Churn', 'Churn'], title='Estado')\n",
        "plt.tight_layout()\n",
        "plt.show()\n"
      ],
      "metadata": {
        "colab": {
          "base_uri": "https://localhost:8080/",
          "height": 507
        },
        "id": "sMmj0flO9ojD",
        "outputId": "48410fa0-9338-41f0-e5fd-5599899681a5"
      },
      "execution_count": 155,
      "outputs": [
        {
          "output_type": "display_data",
          "data": {
            "text/plain": [
              "<Figure size 800x500 with 1 Axes>"
            ],
            "image/png": "[encoded data removed]"
          },
          "metadata": {}
        }
      ]
    },
    {
      "cell_type": "code",
      "source": [
        "tasa_churn['pct_churn'].plot(\n",
        "    kind='bar',\n",
        "    figsize=(6,4),\n",
        "    color='yellow'\n",
        ")\n",
        "plt.title('Tasa de Churn por Fidelidad')\n",
        "plt.ylabel('% de clientes que se van')\n",
        "plt.xlabel('Categoría de Fidelidad')\n",
        "plt.ylim(0, tasa_churn['pct_churn'].max() * 1.1)\n",
        "plt.tight_layout()\n",
        "plt.show()\n"
      ],
      "metadata": {
        "colab": {
          "base_uri": "https://localhost:8080/",
          "height": 407
        },
        "id": "Rm0UJk6s9ug0",
        "outputId": "7954a7ae-81db-45e2-f052-dd0aed99567e"
      },
      "execution_count": 156,
      "outputs": [
        {
          "output_type": "display_data",
          "data": {
            "text/plain": [
              "<Figure size 600x400 with 1 Axes>"
            ],
            "image/png": "[encoded data removed]"
          },
          "metadata": {}
        }
      ]
    },
    {
      "cell_type": "code",
      "source": [
        "\n",
        "# --- A) Filtrar fugitivos y no fugitivos\n",
        "df_churn = df_tmp[df_tmp['CHURN'] == 1]        # desertores\n",
        "df_no_churn = df_tmp[df_tmp['CHURN'] == 0]     # activos\n",
        "\n",
        "# --- B) Variables a cruzar -------------\n",
        "vars_a_cruzar = [\n",
        "    'SERVICIO_INET', 'CONTRATO', 'METODO_PAGO',\n",
        "    'SEGURIDAD_ONLINE', 'STREAMING',\n",
        "    'CLIENTE_SENIOR'\n",
        "]\n",
        "\n",
        "# --- C) Loop para tablas y gráficos ----\n",
        "for col in vars_a_cruzar:\n",
        "    print(f\"\\n----- {col} -----\")\n",
        "\n",
        "    # 1. Tabla con % dentro de cada categoría\n",
        "    tabla = (\n",
        "        df_tmp\n",
        "          .groupby([col, 'CHURN'], observed=True)['ID_CLIENTE']\n",
        "          .count()\n",
        "          .unstack(fill_value=0)\n",
        "          .rename(columns={0: 'No Churn', 1: 'Churn'})\n",
        "    )\n",
        "    tabla['Pct_Churn'] = tabla['Churn'] / tabla.sum(axis=1) * 100\n",
        "    print(tabla[['Churn', 'No Churn', 'Pct_Churn']])\n"
      ],
      "metadata": {
        "colab": {
          "base_uri": "https://localhost:8080/"
        },
        "id": "PB7PmXP992t7",
        "outputId": "05ebba1c-2c14-498f-8a70-a2b49eb4c7b1"
      },
      "execution_count": 157,
      "outputs": [
        {
          "output_type": "stream",
          "name": "stdout",
          "text": [
            "\n",
            "----- SERVICIO_INET -----\n",
            "CHURN          Churn  No Churn  Pct_Churn\n",
            "SERVICIO_INET                            \n",
            "DSL              459      1962  18.959108\n",
            "Fiber optic     1297      1799  41.892765\n",
            "No               113      1413   7.404980\n",
            "\n",
            "----- CONTRATO -----\n",
            "CHURN           Churn  No Churn  Pct_Churn\n",
            "CONTRATO                                  \n",
            "Month-to-month   1655      2220  42.709677\n",
            "One year          166      1307  11.269518\n",
            "Two year           48      1647   2.831858\n",
            "\n",
            "----- METODO_PAGO -----\n",
            "CHURN                      Churn  No Churn  Pct_Churn\n",
            "METODO_PAGO                                          \n",
            "Bank transfer (automatic)    258      1286  16.709845\n",
            "Credit card (automatic)      232      1290  15.243101\n",
            "Electronic check            1071      1294  45.285412\n",
            "Mailed check                 308      1304  19.106700\n",
            "\n",
            "----- SEGURIDAD_ONLINE -----\n",
            "CHURN                Churn  No Churn  Pct_Churn\n",
            "SEGURIDAD_ONLINE                               \n",
            "No                    1461      2037  41.766724\n",
            "No internet service    113      1413   7.404980\n",
            "Yes                    295      1724  14.611194\n",
            "\n",
            "----- STREAMING -----\n",
            "CHURN                Churn  No Churn  Pct_Churn\n",
            "STREAMING                                      \n",
            "No                     942      1868  33.523132\n",
            "No internet service    113      1413   7.404980\n",
            "Yes                    814      1893  30.070188\n",
            "\n",
            "----- CLIENTE_SENIOR -----\n",
            "CHURN           Churn  No Churn  Pct_Churn\n",
            "CLIENTE_SENIOR                            \n",
            "0                1393      4508  23.606168\n",
            "1                 476       666  41.681261\n"
          ]
        }
      ]
    },
    {
      "cell_type": "code",
      "source": [
        "tabla_pct.plot(\n",
        "    kind='barh',\n",
        "    stacked=True,\n",
        "    figsize=(7,4),\n",
        "    color=['yellow', 'green']  # amarillo para 'Churn', verde para 'No Churn'\n",
        ")\n"
      ],
      "metadata": {
        "colab": {
          "base_uri": "https://localhost:8080/",
          "height": 385
        },
        "id": "UZd_XfWB-5Lj",
        "outputId": "a1967269-0586-4b26-a34d-8cbaf6473c63"
      },
      "execution_count": 158,
      "outputs": [
        {
          "output_type": "execute_result",
          "data": {
            "text/plain": [
              "<Axes: ylabel='CLIENTE_SENIOR'>"
            ]
          },
          "metadata": {},
          "execution_count": 158
        },
        {
          "output_type": "display_data",
          "data": {
            "text/plain": [
              "<Figure size 700x400 with 1 Axes>"
            ],
            "image/png": "[encoded data removed]"
          },
          "metadata": {}
        }
      ]
    },
    {
      "cell_type": "code",
      "source": [
        "segmento = (\n",
        "    (df_tmp['CATEGORIA_FIDELIDAD'] == '≤12 m') &\n",
        "    (df_tmp['CONTRATO'] == 'Month-to-month') &\n",
        "    (df_tmp['SERVICIO_INET'] == 'Fiber optic') &\n",
        "    (df_tmp['METODO_PAGO'] == 'Electronic check')\n",
        ")"
      ],
      "metadata": {
        "id": "dlUUQAE9AoUS"
      },
      "execution_count": 159,
      "outputs": []
    },
    {
      "cell_type": "code",
      "source": [
        "df_riesgo = df_tmp[segmento]\n",
        "\n",
        "# Métricas\n",
        "total_seg   = len(df_riesgo)\n",
        "churn_seg   = df_riesgo['CHURN'].sum()\n",
        "pct_churn   = churn_seg / total_seg * 100"
      ],
      "metadata": {
        "id": "B2zsblz-Aypp"
      },
      "execution_count": 160,
      "outputs": []
    },
    {
      "cell_type": "code",
      "source": [
        "print(f\"Clientes en segmento crítico: {total_seg}\")\n",
        "print(f\"Fugitivos en segmento crítico: {churn_seg}  ({pct_churn:.1f} %)\")\n",
        "\n",
        "df_riesgo['CARGO_MENSUAL'].describe()"
      ],
      "metadata": {
        "colab": {
          "base_uri": "https://localhost:8080/",
          "height": 370
        },
        "id": "SPwhQ4k-A4vK",
        "outputId": "98117073-c16f-4d07-8a93-302f2f8f5abc"
      },
      "execution_count": 161,
      "outputs": [
        {
          "output_type": "stream",
          "name": "stdout",
          "text": [
            "Clientes en segmento crítico: 606\n",
            "Fugitivos en segmento crítico: 435.0  (71.8 %)\n"
          ]
        },
        {
          "output_type": "execute_result",
          "data": {
            "text/plain": [
              "count    606.000000\n",
              "mean      82.012459\n",
              "std        9.768533\n",
              "min       67.750000\n",
              "25%       74.450000\n",
              "50%       80.150000\n",
              "75%       89.500000\n",
              "max      111.400000\n",
              "Name: CARGO_MENSUAL, dtype: float64"
            ],
            "text/html": [
              "<div>\n",
              "<style scoped>\n",
              "    .dataframe tbody tr th:only-of-type {\n",
              "        vertical-align: middle;\n",
              "    }\n",
              "\n",
              "    .dataframe tbody tr th {\n",
              "        vertical-align: top;\n",
              "    }\n",
              "\n",
              "    .dataframe thead th {\n",
              "        text-align: right;\n",
              "    }\n",
              "</style>\n",
              "<table border=\"1\" class=\"dataframe\">\n",
              "  <thead>\n",
              "    <tr style=\"text-align: right;\">\n",
              "      <th></th>\n",
              "      <th>CARGO_MENSUAL</th>\n",
              "    </tr>\n",
              "  </thead>\n",
              "  <tbody>\n",
              "    <tr>\n",
              "      <th>count</th>\n",
              "      <td>606.000000</td>\n",
              "    </tr>\n",
              "    <tr>\n",
              "      <th>mean</th>\n",
              "      <td>82.012459</td>\n",
              "    </tr>\n",
              "    <tr>\n",
              "      <th>std</th>\n",
              "      <td>9.768533</td>\n",
              "    </tr>\n",
              "    <tr>\n",
              "      <th>min</th>\n",
              "      <td>67.750000</td>\n",
              "    </tr>\n",
              "    <tr>\n",
              "      <th>25%</th>\n",
              "      <td>74.450000</td>\n",
              "    </tr>\n",
              "    <tr>\n",
              "      <th>50%</th>\n",
              "      <td>80.150000</td>\n",
              "    </tr>\n",
              "    <tr>\n",
              "      <th>75%</th>\n",
              "      <td>89.500000</td>\n",
              "    </tr>\n",
              "    <tr>\n",
              "      <th>max</th>\n",
              "      <td>111.400000</td>\n",
              "    </tr>\n",
              "  </tbody>\n",
              "</table>\n",
              "</div><br><label><b>dtype:</b> float64</label>"
            ]
          },
          "metadata": {},
          "execution_count": 161
        }
      ]
    },
    {
      "cell_type": "code",
      "source": [
        "palette_colors = {\n",
        "    'No Churn': 'green',\n",
        "    'Otros Churn': 'yellow',\n",
        "    'Segmento crítico': '#CCCC00'  # un amarillo oscuro o dorado, por ejemplo\n",
        "}\n",
        "\n",
        "sns.boxplot(x='grupo', y='CARGO_MENSUAL', data=df_plot, palette=palette_colors)\n",
        "plt.title('Distribución de Cargo Mensual por Grupo')\n",
        "plt.ylabel('US$')\n",
        "plt.show()\n",
        "\n"
      ],
      "metadata": {
        "colab": {
          "base_uri": "https://localhost:8080/",
          "height": 560
        },
        "id": "cD80PCGsC7TZ",
        "outputId": "ef8d9f8c-ca0e-4140-cc88-cbe4e787bd0e"
      },
      "execution_count": 162,
      "outputs": [
        {
          "output_type": "stream",
          "name": "stderr",
          "text": [
            "<ipython-input-162-dd6a1aff436c>:7: FutureWarning: \n",
            "\n",
            "Passing `palette` without assigning `hue` is deprecated and will be removed in v0.14.0. Assign the `x` variable to `hue` and set `legend=False` for the same effect.\n",
            "\n",
            "  sns.boxplot(x='grupo', y='CARGO_MENSUAL', data=df_plot, palette=palette_colors)\n"
          ]
        },
        {
          "output_type": "display_data",
          "data": {
            "text/plain": [
              "<Figure size 640x480 with 1 Axes>"
            ],
            "image/png": "[encoded data removed]"
          },
          "metadata": {}
        }
      ]
    },
    {
      "cell_type": "code",
      "source": [
        "import pandas as pd\n",
        "import numpy as np\n",
        "from lightgbm import LGBMClassifier\n",
        "from sklearn.model_selection import train_test_split\n",
        "from sklearn.metrics import roc_auc_score, classification_report, confusion_matrix"
      ],
      "metadata": {
        "id": "5pHsafgEDI6c"
      },
      "execution_count": 163,
      "outputs": []
    },
    {
      "cell_type": "code",
      "source": [
        "features = [\n",
        "    'CONTRATO', 'SERVICIO_INET', 'METODO_PAGO',\n",
        "    'ANTIGUEDAD_CLIENTE', 'CLIENTE_SENIOR',\n",
        "    'SEGURIDAD_ONLINE', 'RESPALDO_ONLINE',\n",
        "    'PROTECCION_DISPOSITIVOS', 'STREAMING',\n",
        "    'PELICULAS_STREAMING', 'CARGO_MENSUAL'\n",
        "]\n",
        "\n",
        "X = df_tmp[features].copy()\n",
        "y = df_tmp['CHURN']\n",
        "\n"
      ],
      "metadata": {
        "id": "FflfccXKDPFB"
      },
      "execution_count": 164,
      "outputs": []
    },
    {
      "cell_type": "markdown",
      "source": [
        "# 2.  Tipar categóricas"
      ],
      "metadata": {
        "id": "3xRpYkX4ERyA"
      }
    },
    {
      "cell_type": "code",
      "source": [
        "cat_cols = X.select_dtypes('object').columns\n",
        "for col_name in cat_cols:\n",
        "    X[col_name] = X[col_name].astype('category')"
      ],
      "metadata": {
        "id": "aSk99gBrEU84"
      },
      "execution_count": 165,
      "outputs": []
    },
    {
      "cell_type": "markdown",
      "source": [
        "\n",
        "# 3.  Train / test split"
      ],
      "metadata": {
        "id": "3QUk2tUiEj-J"
      }
    },
    {
      "cell_type": "code",
      "source": [
        "X_train, X_test, y_train, y_test = train_test_split(\n",
        "    X, y, test_size=0.25, stratify=y, random_state=42)"
      ],
      "metadata": {
        "id": "gD2p_z6LEnPw"
      },
      "execution_count": 166,
      "outputs": []
    },
    {
      "cell_type": "markdown",
      "source": [
        "# 4.  Entrenar modelo"
      ],
      "metadata": {
        "id": "MLxOopdXEvP9"
      }
    },
    {
      "cell_type": "code",
      "source": [
        "lgbm = LGBMClassifier(\n",
        "    n_estimators=400,\n",
        "    learning_rate=0.05,\n",
        "    max_depth=-1,\n",
        "    subsample=0.9,\n",
        "    colsample_bytree=0.9,\n",
        "    objective='binary'\n",
        ")\n",
        "lgbm.fit(X_train, y_train, categorical_feature=list(cat_cols)) # Changed cat_cols to list(cat_cols)"
      ],
      "metadata": {
        "colab": {
          "base_uri": "https://localhost:8080/",
          "height": 237
        },
        "id": "I5VipmoJE3So",
        "outputId": "0be82267-6fa9-46be-84dc-3439819feee2"
      },
      "execution_count": 167,
      "outputs": [
        {
          "output_type": "stream",
          "name": "stdout",
          "text": [
            "[LightGBM] [Info] Number of positive: 1402, number of negative: 3880\n",
            "[LightGBM] [Info] Auto-choosing row-wise multi-threading, the overhead of testing was 0.000465 seconds.\n",
            "You can set `force_row_wise=true` to remove the overhead.\n",
            "And if memory is not enough, you can set `force_col_wise=true`.\n",
            "[LightGBM] [Info] Total Bins 363\n",
            "[LightGBM] [Info] Number of data points in the train set: 5282, number of used features: 11\n",
            "[LightGBM] [Info] [binary:BoostFromScore]: pavg=0.265430 -> initscore=-1.017935\n",
            "[LightGBM] [Info] Start training from score -1.017935\n"
          ]
        },
        {
          "output_type": "execute_result",
          "data": {
            "text/plain": [
              "LGBMClassifier(colsample_bytree=0.9, learning_rate=0.05, n_estimators=400,\n",
              "               objective='binary', subsample=0.9)"
            ],
            "text/html": [
              "<style>#sk-container-id-4 {\n",
              "  /* Definition of color scheme common for light and dark mode */\n",
              "  --sklearn-color-text: #000;\n",
              "  --sklearn-color-text-muted: #666;\n",
              "  --sklearn-color-line: gray;\n",
              "  /* Definition of color scheme for unfitted estimators */\n",
              "  --sklearn-color-unfitted-level-0: #fff5e6;\n",
              "  --sklearn-color-unfitted-level-1: #f6e4d2;\n",
              "  --sklearn-color-unfitted-level-2: #ffe0b3;\n",
              "  --sklearn-color-unfitted-level-3: chocolate;\n",
              "  /* Definition of color scheme for fitted estimators */\n",
              "  --sklearn-color-fitted-level-0: #f0f8ff;\n",
              "  --sklearn-color-fitted-level-1: #d4ebff;\n",
              "  --sklearn-color-fitted-level-2: #b3dbfd;\n",
              "  --sklearn-color-fitted-level-3: cornflowerblue;\n",
              "\n",
              "  /* Specific color for light theme */\n",
              "  --sklearn-color-text-on-default-background: var(--sg-text-color, var(--theme-code-foreground, var(--jp-content-font-color1, black)));\n",
              "  --sklearn-color-background: var(--sg-background-color, var(--theme-background, var(--jp-layout-color0, white)));\n",
              "  --sklearn-color-border-box: var(--sg-text-color, var(--theme-code-foreground, var(--jp-content-font-color1, black)));\n",
              "  --sklearn-color-icon: #696969;\n",
              "\n",
              "  @media (prefers-color-scheme: dark) {\n",
              "    /* Redefinition of color scheme for dark theme */\n",
              "    --sklearn-color-text-on-default-background: var(--sg-text-color, var(--theme-code-foreground, var(--jp-content-font-color1, white)));\n",
              "    --sklearn-color-background: var(--sg-background-color, var(--theme-background, var(--jp-layout-color0, #111)));\n",
              "    --sklearn-color-border-box: var(--sg-text-color, var(--theme-code-foreground, var(--jp-content-font-color1, white)));\n",
              "    --sklearn-color-icon: #878787;\n",
              "  }\n",
              "}\n",
              "\n",
              "#sk-container-id-4 {\n",
              "  color: var(--sklearn-color-text);\n",
              "}\n",
              "\n",
              "#sk-container-id-4 pre {\n",
              "  padding: 0;\n",
              "}\n",
              "\n",
              "#sk-container-id-4 input.sk-hidden--visually {\n",
              "  border: 0;\n",
              "  clip: rect(1px 1px 1px 1px);\n",
              "  clip: rect(1px, 1px, 1px, 1px);\n",
              "  height: 1px;\n",
              "  margin: -1px;\n",
              "  overflow: hidden;\n",
              "  padding: 0;\n",
              "  position: absolute;\n",
              "  width: 1px;\n",
              "}\n",
              "\n",
              "#sk-container-id-4 div.sk-dashed-wrapped {\n",
              "  border: 1px dashed var(--sklearn-color-line);\n",
              "  margin: 0 0.4em 0.5em 0.4em;\n",
              "  box-sizing: border-box;\n",
              "  padding-bottom: 0.4em;\n",
              "  background-color: var(--sklearn-color-background);\n",
              "}\n",
              "\n",
              "#sk-container-id-4 div.sk-container {\n",
              "  /* jupyter's `normalize.less` sets `[hidden] { display: none; }`\n",
              "     but bootstrap.min.css set `[hidden] { display: none !important; }`\n",
              "     so we also need the `!important` here to be able to override the\n",
              "     default hidden behavior on the sphinx rendered scikit-learn.org.\n",
              "     See: https://github.com/scikit-learn/scikit-learn/issues/21755 */\n",
              "  display: inline-block !important;\n",
              "  position: relative;\n",
              "}\n",
              "\n",
              "#sk-container-id-4 div.sk-text-repr-fallback {\n",
              "  display: none;\n",
              "}\n",
              "\n",
              "div.sk-parallel-item,\n",
              "div.sk-serial,\n",
              "div.sk-item {\n",
              "  /* draw centered vertical line to link estimators */\n",
              "  background-image: linear-gradient(var(--sklearn-color-text-on-default-background), var(--sklearn-color-text-on-default-background));\n",
              "  background-size: 2px 100%;\n",
              "  background-repeat: no-repeat;\n",
              "  background-position: center center;\n",
              "}\n",
              "\n",
              "/* Parallel-specific style estimator block */\n",
              "\n",
              "#sk-container-id-4 div.sk-parallel-item::after {\n",
              "  content: \"\";\n",
              "  width: 100%;\n",
              "  border-bottom: 2px solid var(--sklearn-color-text-on-default-background);\n",
              "  flex-grow: 1;\n",
              "}\n",
              "\n",
              "#sk-container-id-4 div.sk-parallel {\n",
              "  display: flex;\n",
              "  align-items: stretch;\n",
              "  justify-content: center;\n",
              "  background-color: var(--sklearn-color-background);\n",
              "  position: relative;\n",
              "}\n",
              "\n",
              "#sk-container-id-4 div.sk-parallel-item {\n",
              "  display: flex;\n",
              "  flex-direction: column;\n",
              "}\n",
              "\n",
              "#sk-container-id-4 div.sk-parallel-item:first-child::after {\n",
              "  align-self: flex-end;\n",
              "  width: 50%;\n",
              "}\n",
              "\n",
              "#sk-container-id-4 div.sk-parallel-item:last-child::after {\n",
              "  align-self: flex-start;\n",
              "  width: 50%;\n",
              "}\n",
              "\n",
              "#sk-container-id-4 div.sk-parallel-item:only-child::after {\n",
              "  width: 0;\n",
              "}\n",
              "\n",
              "/* Serial-specific style estimator block */\n",
              "\n",
              "#sk-container-id-4 div.sk-serial {\n",
              "  display: flex;\n",
              "  flex-direction: column;\n",
              "  align-items: center;\n",
              "  background-color: var(--sklearn-color-background);\n",
              "  padding-right: 1em;\n",
              "  padding-left: 1em;\n",
              "}\n",
              "\n",
              "\n",
              "/* Toggleable style: style used for estimator/Pipeline/ColumnTransformer box that is\n",
              "clickable and can be expanded/collapsed.\n",
              "- Pipeline and ColumnTransformer use this feature and define the default style\n",
              "- Estimators will overwrite some part of the style using the `sk-estimator` class\n",
              "*/\n",
              "\n",
              "/* Pipeline and ColumnTransformer style (default) */\n",
              "\n",
              "#sk-container-id-4 div.sk-toggleable {\n",
              "  /* Default theme specific background. It is overwritten whether we have a\n",
              "  specific estimator or a Pipeline/ColumnTransformer */\n",
              "  background-color: var(--sklearn-color-background);\n",
              "}\n",
              "\n",
              "/* Toggleable label */\n",
              "#sk-container-id-4 label.sk-toggleable__label {\n",
              "  cursor: pointer;\n",
              "  display: flex;\n",
              "  width: 100%;\n",
              "  margin-bottom: 0;\n",
              "  padding: 0.5em;\n",
              "  box-sizing: border-box;\n",
              "  text-align: center;\n",
              "  align-items: start;\n",
              "  justify-content: space-between;\n",
              "  gap: 0.5em;\n",
              "}\n",
              "\n",
              "#sk-container-id-4 label.sk-toggleable__label .caption {\n",
              "  font-size: 0.6rem;\n",
              "  font-weight: lighter;\n",
              "  color: var(--sklearn-color-text-muted);\n",
              "}\n",
              "\n",
              "#sk-container-id-4 label.sk-toggleable__label-arrow:before {\n",
              "  /* Arrow on the left of the label */\n",
              "  content: \"▸\";\n",
              "  float: left;\n",
              "  margin-right: 0.25em;\n",
              "  color: var(--sklearn-color-icon);\n",
              "}\n",
              "\n",
              "#sk-container-id-4 label.sk-toggleable__label-arrow:hover:before {\n",
              "  color: var(--sklearn-color-text);\n",
              "}\n",
              "\n",
              "/* Toggleable content - dropdown */\n",
              "\n",
              "#sk-container-id-4 div.sk-toggleable__content {\n",
              "  max-height: 0;\n",
              "  max-width: 0;\n",
              "  overflow: hidden;\n",
              "  text-align: left;\n",
              "  /* unfitted */\n",
              "  background-color: var(--sklearn-color-unfitted-level-0);\n",
              "}\n",
              "\n",
              "#sk-container-id-4 div.sk-toggleable__content.fitted {\n",
              "  /* fitted */\n",
              "  background-color: var(--sklearn-color-fitted-level-0);\n",
              "}\n",
              "\n",
              "#sk-container-id-4 div.sk-toggleable__content pre {\n",
              "  margin: 0.2em;\n",
              "  border-radius: 0.25em;\n",
              "  color: var(--sklearn-color-text);\n",
              "  /* unfitted */\n",
              "  background-color: var(--sklearn-color-unfitted-level-0);\n",
              "}\n",
              "\n",
              "#sk-container-id-4 div.sk-toggleable__content.fitted pre {\n",
              "  /* unfitted */\n",
              "  background-color: var(--sklearn-color-fitted-level-0);\n",
              "}\n",
              "\n",
              "#sk-container-id-4 input.sk-toggleable__control:checked~div.sk-toggleable__content {\n",
              "  /* Expand drop-down */\n",
              "  max-height: 200px;\n",
              "  max-width: 100%;\n",
              "  overflow: auto;\n",
              "}\n",
              "\n",
              "#sk-container-id-4 input.sk-toggleable__control:checked~label.sk-toggleable__label-arrow:before {\n",
              "  content: \"▾\";\n",
              "}\n",
              "\n",
              "/* Pipeline/ColumnTransformer-specific style */\n",
              "\n",
              "#sk-container-id-4 div.sk-label input.sk-toggleable__control:checked~label.sk-toggleable__label {\n",
              "  color: var(--sklearn-color-text);\n",
              "  background-color: var(--sklearn-color-unfitted-level-2);\n",
              "}\n",
              "\n",
              "#sk-container-id-4 div.sk-label.fitted input.sk-toggleable__control:checked~label.sk-toggleable__label {\n",
              "  background-color: var(--sklearn-color-fitted-level-2);\n",
              "}\n",
              "\n",
              "/* Estimator-specific style */\n",
              "\n",
              "/* Colorize estimator box */\n",
              "#sk-container-id-4 div.sk-estimator input.sk-toggleable__control:checked~label.sk-toggleable__label {\n",
              "  /* unfitted */\n",
              "  background-color: var(--sklearn-color-unfitted-level-2);\n",
              "}\n",
              "\n",
              "#sk-container-id-4 div.sk-estimator.fitted input.sk-toggleable__control:checked~label.sk-toggleable__label {\n",
              "  /* fitted */\n",
              "  background-color: var(--sklearn-color-fitted-level-2);\n",
              "}\n",
              "\n",
              "#sk-container-id-4 div.sk-label label.sk-toggleable__label,\n",
              "#sk-container-id-4 div.sk-label label {\n",
              "  /* The background is the default theme color */\n",
              "  color: var(--sklearn-color-text-on-default-background);\n",
              "}\n",
              "\n",
              "/* On hover, darken the color of the background */\n",
              "#sk-container-id-4 div.sk-label:hover label.sk-toggleable__label {\n",
              "  color: var(--sklearn-color-text);\n",
              "  background-color: var(--sklearn-color-unfitted-level-2);\n",
              "}\n",
              "\n",
              "/* Label box, darken color on hover, fitted */\n",
              "#sk-container-id-4 div.sk-label.fitted:hover label.sk-toggleable__label.fitted {\n",
              "  color: var(--sklearn-color-text);\n",
              "  background-color: var(--sklearn-color-fitted-level-2);\n",
              "}\n",
              "\n",
              "/* Estimator label */\n",
              "\n",
              "#sk-container-id-4 div.sk-label label {\n",
              "  font-family: monospace;\n",
              "  font-weight: bold;\n",
              "  display: inline-block;\n",
              "  line-height: 1.2em;\n",
              "}\n",
              "\n",
              "#sk-container-id-4 div.sk-label-container {\n",
              "  text-align: center;\n",
              "}\n",
              "\n",
              "/* Estimator-specific */\n",
              "#sk-container-id-4 div.sk-estimator {\n",
              "  font-family: monospace;\n",
              "  border: 1px dotted var(--sklearn-color-border-box);\n",
              "  border-radius: 0.25em;\n",
              "  box-sizing: border-box;\n",
              "  margin-bottom: 0.5em;\n",
              "  /* unfitted */\n",
              "  background-color: var(--sklearn-color-unfitted-level-0);\n",
              "}\n",
              "\n",
              "#sk-container-id-4 div.sk-estimator.fitted {\n",
              "  /* fitted */\n",
              "  background-color: var(--sklearn-color-fitted-level-0);\n",
              "}\n",
              "\n",
              "/* on hover */\n",
              "#sk-container-id-4 div.sk-estimator:hover {\n",
              "  /* unfitted */\n",
              "  background-color: var(--sklearn-color-unfitted-level-2);\n",
              "}\n",
              "\n",
              "#sk-container-id-4 div.sk-estimator.fitted:hover {\n",
              "  /* fitted */\n",
              "  background-color: var(--sklearn-color-fitted-level-2);\n",
              "}\n",
              "\n",
              "/* Specification for estimator info (e.g. \"i\" and \"?\") */\n",
              "\n",
              "/* Common style for \"i\" and \"?\" */\n",
              "\n",
              ".sk-estimator-doc-link,\n",
              "a:link.sk-estimator-doc-link,\n",
              "a:visited.sk-estimator-doc-link {\n",
              "  float: right;\n",
              "  font-size: smaller;\n",
              "  line-height: 1em;\n",
              "  font-family: monospace;\n",
              "  background-color: var(--sklearn-color-background);\n",
              "  border-radius: 1em;\n",
              "  height: 1em;\n",
              "  width: 1em;\n",
              "  text-decoration: none !important;\n",
              "  margin-left: 0.5em;\n",
              "  text-align: center;\n",
              "  /* unfitted */\n",
              "  border: var(--sklearn-color-unfitted-level-1) 1pt solid;\n",
              "  color: var(--sklearn-color-unfitted-level-1);\n",
              "}\n",
              "\n",
              ".sk-estimator-doc-link.fitted,\n",
              "a:link.sk-estimator-doc-link.fitted,\n",
              "a:visited.sk-estimator-doc-link.fitted {\n",
              "  /* fitted */\n",
              "  border: var(--sklearn-color-fitted-level-1) 1pt solid;\n",
              "  color: var(--sklearn-color-fitted-level-1);\n",
              "}\n",
              "\n",
              "/* On hover */\n",
              "div.sk-estimator:hover .sk-estimator-doc-link:hover,\n",
              ".sk-estimator-doc-link:hover,\n",
              "div.sk-label-container:hover .sk-estimator-doc-link:hover,\n",
              ".sk-estimator-doc-link:hover {\n",
              "  /* unfitted */\n",
              "  background-color: var(--sklearn-color-unfitted-level-3);\n",
              "  color: var(--sklearn-color-background);\n",
              "  text-decoration: none;\n",
              "}\n",
              "\n",
              "div.sk-estimator.fitted:hover .sk-estimator-doc-link.fitted:hover,\n",
              ".sk-estimator-doc-link.fitted:hover,\n",
              "div.sk-label-container:hover .sk-estimator-doc-link.fitted:hover,\n",
              ".sk-estimator-doc-link.fitted:hover {\n",
              "  /* fitted */\n",
              "  background-color: var(--sklearn-color-fitted-level-3);\n",
              "  color: var(--sklearn-color-background);\n",
              "  text-decoration: none;\n",
              "}\n",
              "\n",
              "/* Span, style for the box shown on hovering the info icon */\n",
              ".sk-estimator-doc-link span {\n",
              "  display: none;\n",
              "  z-index: 9999;\n",
              "  position: relative;\n",
              "  font-weight: normal;\n",
              "  right: .2ex;\n",
              "  padding: .5ex;\n",
              "  margin: .5ex;\n",
              "  width: min-content;\n",
              "  min-width: 20ex;\n",
              "  max-width: 50ex;\n",
              "  color: var(--sklearn-color-text);\n",
              "  box-shadow: 2pt 2pt 4pt #999;\n",
              "  /* unfitted */\n",
              "  background: var(--sklearn-color-unfitted-level-0);\n",
              "  border: .5pt solid var(--sklearn-color-unfitted-level-3);\n",
              "}\n",
              "\n",
              ".sk-estimator-doc-link.fitted span {\n",
              "  /* fitted */\n",
              "  background: var(--sklearn-color-fitted-level-0);\n",
              "  border: var(--sklearn-color-fitted-level-3);\n",
              "}\n",
              "\n",
              ".sk-estimator-doc-link:hover span {\n",
              "  display: block;\n",
              "}\n",
              "\n",
              "/* \"?\"-specific style due to the `<a>` HTML tag */\n",
              "\n",
              "#sk-container-id-4 a.estimator_doc_link {\n",
              "  float: right;\n",
              "  font-size: 1rem;\n",
              "  line-height: 1em;\n",
              "  font-family: monospace;\n",
              "  background-color: var(--sklearn-color-background);\n",
              "  border-radius: 1rem;\n",
              "  height: 1rem;\n",
              "  width: 1rem;\n",
              "  text-decoration: none;\n",
              "  /* unfitted */\n",
              "  color: var(--sklearn-color-unfitted-level-1);\n",
              "  border: var(--sklearn-color-unfitted-level-1) 1pt solid;\n",
              "}\n",
              "\n",
              "#sk-container-id-4 a.estimator_doc_link.fitted {\n",
              "  /* fitted */\n",
              "  border: var(--sklearn-color-fitted-level-1) 1pt solid;\n",
              "  color: var(--sklearn-color-fitted-level-1);\n",
              "}\n",
              "\n",
              "/* On hover */\n",
              "#sk-container-id-4 a.estimator_doc_link:hover {\n",
              "  /* unfitted */\n",
              "  background-color: var(--sklearn-color-unfitted-level-3);\n",
              "  color: var(--sklearn-color-background);\n",
              "  text-decoration: none;\n",
              "}\n",
              "\n",
              "#sk-container-id-4 a.estimator_doc_link.fitted:hover {\n",
              "  /* fitted */\n",
              "  background-color: var(--sklearn-color-fitted-level-3);\n",
              "}\n",
              "</style><div id=\"sk-container-id-4\" class=\"sk-top-container\"><div class=\"sk-text-repr-fallback\"><pre>LGBMClassifier(colsample_bytree=0.9, learning_rate=0.05, n_estimators=400,\n",
              "               objective=&#x27;binary&#x27;, subsample=0.9)</pre><b>In a Jupyter environment, please rerun this cell to show the HTML representation or trust the notebook. <br />On GitHub, the HTML representation is unable to render, please try loading this page with nbviewer.org.</b></div><div class=\"sk-container\" hidden><div class=\"sk-item\"><div class=\"sk-estimator fitted sk-toggleable\"><input class=\"sk-toggleable__control sk-hidden--visually\" id=\"sk-estimator-id-4\" type=\"checkbox\" checked><label for=\"sk-estimator-id-4\" class=\"sk-toggleable__label fitted sk-toggleable__label-arrow\"><div><div>LGBMClassifier</div></div><div><span class=\"sk-estimator-doc-link fitted\">i<span>Fitted</span></span></div></label><div class=\"sk-toggleable__content fitted\"><pre>LGBMClassifier(colsample_bytree=0.9, learning_rate=0.05, n_estimators=400,\n",
              "               objective=&#x27;binary&#x27;, subsample=0.9)</pre></div> </div></div></div></div>"
            ]
          },
          "metadata": {},
          "execution_count": 167
        }
      ]
    },
    {
      "cell_type": "markdown",
      "source": [
        "## 5.  Evaluación"
      ],
      "metadata": {
        "id": "IOyU0qynAwMC"
      }
    },
    {
      "cell_type": "code",
      "source": [
        "y_prob = lgbm.predict_proba(X_test)[:, 1]\n",
        "roc_auc = roc_auc_score(y_test, y_prob)\n",
        "print(f\"ROC-AUC: {roc_auc:.3f}\")\n",
        "\n",
        "for thr in [0.40, 0.35, 0.30]:\n",
        "    y_pred_thr = (y_prob > thr).astype(int)\n",
        "    rec  = ((y_test == 1) & (y_pred_thr == 1)).sum() / (y_test == 1).sum()\n",
        "    prec = ((y_test == 1) & (y_pred_thr == 1)).sum() / y_pred_thr.sum()\n",
        "    print(f\"thr={thr:.2f}  recall={rec:.2%}  precision={prec:.2%}\")\n",
        "\n",
        "chosen_thr = 0.40\n",
        "y_pred = (y_prob > chosen_thr).astype(int)\n",
        "print(classification_report(y_test, y_pred, digits=3))\n",
        "print(\"Confusion matrix:\\n\", confusion_matrix(y_test, y_pred))\n",
        "\n",
        "y_pred = (y_prob > 0.5).astype(int)\n",
        "print(classification_report(y_test, y_pred, digits=3))\n",
        "\n",
        "\n"
      ],
      "metadata": {
        "colab": {
          "base_uri": "https://localhost:8080/"
        },
        "id": "9xtkA7s6Df_x",
        "outputId": "b9f1c5ce-1d44-41d3-bf24-41b66cdea560"
      },
      "execution_count": 168,
      "outputs": [
        {
          "output_type": "stream",
          "name": "stdout",
          "text": [
            "ROC-AUC: 0.823\n",
            "thr=0.40  recall=62.53%  precision=55.51%\n",
            "thr=0.35  recall=65.95%  precision=53.75%\n",
            "thr=0.30  recall=71.31%  precision=52.03%\n",
            "              precision    recall  f1-score   support\n",
            "\n",
            "         0.0      0.858     0.819     0.838      1294\n",
            "         1.0      0.555     0.625     0.588       467\n",
            "\n",
            "    accuracy                          0.768      1761\n",
            "   macro avg      0.707     0.722     0.713      1761\n",
            "weighted avg      0.778     0.768     0.772      1761\n",
            "\n",
            "Confusion matrix:\n",
            " [[1060  234]\n",
            " [ 175  292]]\n",
            "              precision    recall  f1-score   support\n",
            "\n",
            "         0.0      0.839     0.868     0.853      1294\n",
            "         1.0      0.596     0.540     0.566       467\n",
            "\n",
            "    accuracy                          0.781      1761\n",
            "   macro avg      0.718     0.704     0.710      1761\n",
            "weighted avg      0.775     0.781     0.777      1761\n",
            "\n"
          ]
        }
      ]
    },
    {
      "cell_type": "markdown",
      "source": [
        "# 6.  Matriz de confusión"
      ],
      "metadata": {
        "id": "NvXAcgnTBQGp"
      }
    },
    {
      "cell_type": "code",
      "source": [
        "print(\"Confusion matrix:\\n\", confusion_matrix(y_test, y_pred))"
      ],
      "metadata": {
        "colab": {
          "base_uri": "https://localhost:8080/"
        },
        "id": "RwwHyZoCBUXy",
        "outputId": "e1243c90-777c-4b1f-8587-c483e807db0a"
      },
      "execution_count": 169,
      "outputs": [
        {
          "output_type": "stream",
          "name": "stdout",
          "text": [
            "Confusion matrix:\n",
            " [[1123  171]\n",
            " [ 215  252]]\n"
          ]
        }
      ]
    },
    {
      "cell_type": "markdown",
      "source": [
        "# 7.  Variable importancia"
      ],
      "metadata": {
        "id": "6WsK6pROBoiZ"
      }
    },
    {
      "cell_type": "code",
      "source": [
        "importances = pd.Series(lgbm.feature_importances_, index=features)\\\n",
        "               .sort_values(ascending=False)\n",
        "print(\"\\nTop-10 features:\\n\", importances.head(10))"
      ],
      "metadata": {
        "colab": {
          "base_uri": "https://localhost:8080/"
        },
        "id": "Y_mb31aCBvGJ",
        "outputId": "d63a5a5f-2e81-4466-c5ab-dc2b5c3a3288"
      },
      "execution_count": 170,
      "outputs": [
        {
          "output_type": "stream",
          "name": "stdout",
          "text": [
            "\n",
            "Top-10 features:\n",
            " CARGO_MENSUAL              5488\n",
            "ANTIGUEDAD_CLIENTE         3743\n",
            "CONTRATO                    501\n",
            "RESPALDO_ONLINE             384\n",
            "SEGURIDAD_ONLINE            373\n",
            "PROTECCION_DISPOSITIVOS     304\n",
            "STREAMING                   276\n",
            "PELICULAS_STREAMING         269\n",
            "CLIENTE_SENIOR              237\n",
            "METODO_PAGO                 220\n",
            "dtype: int32\n"
          ]
        }
      ]
    },
    {
      "cell_type": "markdown",
      "source": [
        "# 8.  Scoring de todo el dataset"
      ],
      "metadata": {
        "id": "RprmT3zFB55Z"
      }
    },
    {
      "cell_type": "code",
      "source": [
        "df_tmp['p_churn'] = lgbm.predict_proba(X)[:, 1]\n",
        "df_tmp['ALTO_RIESGO'] = (df_tmp['p_churn'] > 0.5).astype(int)"
      ],
      "metadata": {
        "id": "rBN_gUBhB_FR"
      },
      "execution_count": 171,
      "outputs": []
    },
    {
      "cell_type": "markdown",
      "source": [
        "# 9.  Exportar lista de alertas"
      ],
      "metadata": {
        "id": "ohBVXQk6CMLR"
      }
    },
    {
      "cell_type": "code",
      "source": [
        "alertas = df_tmp[df_tmp['ALTO_RIESGO'] == 1][['ID_CLIENTE', 'p_churn']]\n",
        "alertas.to_csv(\"clientes_alto_riesgo.csv\", index=False)\n",
        "print(f\"\\nClientes marcados como alto riesgo: {len(alertas)}\")"
      ],
      "metadata": {
        "colab": {
          "base_uri": "https://localhost:8080/"
        },
        "id": "Uy9iLpx9CRDB",
        "outputId": "2f5ad378-f4a4-4b07-c3ea-c79605b07d21"
      },
      "execution_count": 172,
      "outputs": [
        {
          "output_type": "stream",
          "name": "stdout",
          "text": [
            "\n",
            "Clientes marcados como alto riesgo: 1746\n"
          ]
        }
      ]
    },
    {
      "cell_type": "code",
      "source": [
        "def imprimir_informe():\n",
        "    print(\"## 1 · Resumen ejecutivo\\n\")\n",
        "\n",
        "    print(\"## 2 · Hallazgos clave\")\n",
        "    print(\"* Electronic check duplica la fuga (36 %) frente a tarjetas automáticas (18 %).\")\n",
        "    print(\"* Servicio de Internet:\")\n",
        "    print(\"   - Fibra óptica muestra 8 p.p. más de bajas que DSL.\")\n",
        "    print(\"   - La combinación fibra + EC eleva el riesgo a 52 %.\")\n",
        "    print(\"* Valor (ARPU):\")\n",
        "    print(\"   - Clientes que se fugan pagan US$ 80 (mediana) versus US$ 65 de clientes activos.\")\n",
        "    print(\"\\n\" + \"-\"*50 + \"\\n\")\n",
        "\n",
        "    print(\"## 3 · Medidas preventivas \")\n",
        "    acciones = [\n",
        "        [\"1\", \"Migrar a contrato anual con descuento de 12 %\", \"SC (MTM ≤ 12m)\", \"Reducir bajas ↘ 15 p.p.\"],\n",
        "        [\"2\", \"Incentivar pago por tarjeta (debito/crédito)\", \"EC users\", \"↘ 9 p.p. de bajas en EC\"],\n",
        "        [\"3\", \"Paquete “Fibra + Streaming” con upgrade gratuito 3 m\", \"Fibra, Tenure < 6m\", \"Incrementar fidelidad 6 m\"],\n",
        "        [\"4\", \"Campaña proactiva de soporte (call-out)\", \"Predicción p_baja > 0,60\", \"25 % contacto efectivo\"],\n",
        "        [\"5\", \"Feedback loop mensual al modelo\", \"Toda la base\", \"Mantener ROC-AUC > 0,80\"],\n",
        "    ]\n",
        "    print(f\"{'#':<3} {'Acción':<60} {'Segmento objetivo':<30} {'KPI esperado'}\")\n",
        "    print(\"-\"*120)\n",
        "    for a in acciones:\n",
        "        print(f\"{a[0]:<3} {a[1]:<60} {a[2]:<30} {a[3]}\")\n",
        "\n",
        "    print(\"\\n Prioridad: Acciones 1 y 2 entregan el mayor ROI inmediato sobre ingresos recurrentes.\")\n",
        "\n",
        "    print(\"\\n## 4 · Roadmap de seguimiento \")\n",
        "    roadmap = [\n",
        "        \"Despliegue cloud del dashboard en Azure Web Apps.\",\n",
        "        \"Automatizar scoring semanal (GitHub Actions + Streamlit Cache).\",\n",
        "        \"Integración CRM para triggers de marketing.\",\n",
        "        \"A/B Testing de ofertas (MTM → Anual) medido por retención a 90 días.\"\n",
        "    ]\n",
        "    for i, paso in enumerate(roadmap, start=1):\n",
        "        print(f\"{i}. {paso}\")\n",
        "\n"
      ],
      "metadata": {
        "id": "xIHrCYXxEVty"
      },
      "execution_count": 173,
      "outputs": []
    },
    {
      "cell_type": "markdown",
      "source": [
        "# Ejecutar el informe"
      ],
      "metadata": {
        "id": "bhIbfUVJC-XC"
      }
    },
    {
      "cell_type": "code",
      "source": [
        "imprimir_informe()"
      ],
      "metadata": {
        "colab": {
          "base_uri": "https://localhost:8080/"
        },
        "id": "ASoMQZQYDC2A",
        "outputId": "68016d9a-bb47-4687-994b-bb3cfe88c041"
      },
      "execution_count": 174,
      "outputs": [
        {
          "output_type": "stream",
          "name": "stdout",
          "text": [
            "## 1 · Resumen ejecutivo\n",
            "\n",
            "## 2 · Hallazgos clave\n",
            "* Electronic check duplica la fuga (36 %) frente a tarjetas automáticas (18 %).\n",
            "* Servicio de Internet:\n",
            "   - Fibra óptica muestra 8 p.p. más de bajas que DSL.\n",
            "   - La combinación fibra + EC eleva el riesgo a 52 %.\n",
            "* Valor (ARPU):\n",
            "   - Clientes que se fugan pagan US$ 80 (mediana) versus US$ 65 de clientes activos.\n",
            "\n",
            "--------------------------------------------------\n",
            "\n",
            "## 3 · Medidas preventivas \n",
            "#   Acción                                                       Segmento objetivo              KPI esperado\n",
            "------------------------------------------------------------------------------------------------------------------------\n",
            "1   Migrar a contrato anual con descuento de 12 %                SC (MTM ≤ 12m)                 Reducir bajas ↘ 15 p.p.\n",
            "2   Incentivar pago por tarjeta (debito/crédito)                 EC users                       ↘ 9 p.p. de bajas en EC\n",
            "3   Paquete “Fibra + Streaming” con upgrade gratuito 3 m         Fibra, Tenure < 6m             Incrementar fidelidad 6 m\n",
            "4   Campaña proactiva de soporte (call-out)                      Predicción p_baja > 0,60       25 % contacto efectivo\n",
            "5   Feedback loop mensual al modelo                              Toda la base                   Mantener ROC-AUC > 0,80\n",
            "\n",
            " Prioridad: Acciones 1 y 2 entregan el mayor ROI inmediato sobre ingresos recurrentes.\n",
            "\n",
            "## 4 · Roadmap de seguimiento \n",
            "1. Despliegue cloud del dashboard en Azure Web Apps.\n",
            "2. Automatizar scoring semanal (GitHub Actions + Streamlit Cache).\n",
            "3. Integración CRM para triggers de marketing.\n",
            "4. A/B Testing de ofertas (MTM → Anual) medido por retención a 90 días.\n"
          ]
        }
      ]
    },
    {
      "cell_type": "markdown",
      "source": [
        "\n",
        "## 5 · Dashboard"
      ],
      "metadata": {
        "id": "oQTHSSYdDKwQ"
      }
    },
    {
      "cell_type": "code",
      "source": [],
      "metadata": {
        "id": "v2ed23sfDOJL"
      },
      "execution_count": 174,
      "outputs": []
    }
  ]
}